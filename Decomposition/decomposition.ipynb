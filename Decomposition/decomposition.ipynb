{
 "cells": [
  {
   "cell_type": "code",
   "execution_count": 7,
   "metadata": {},
   "outputs": [
    {
     "name": "stdout",
     "output_type": "stream",
     "text": [
      "enter the name of input fileTIP4P-10.xyz\n"
     ]
    }
   ],
   "source": [
    "import glob\n",
    "import json\n",
    "import pprint\n",
    "coordinate = []\n",
    "file_input = input(\"enter the name of input file\")\n",
    "with open(file_input) as fp:\n",
    "   total_atom = fp.readline().split()\n",
    "   n_atoms = fp.readline().split()\n",
    "   n_atoms = list(map(int,n_atoms))\n",
    "   n_molecule = len(n_atoms)\n",
    "   for line in fp:\n",
    "     coordinate.append(line.split())\n",
    "        \n",
    "    \n",
    "                                            # Monomer content creation\n",
    "    \n",
    "fragment = {}\n",
    "count = 0\n",
    "no_atoms = int(n_atoms[0])\n",
    "for i in range(0,len(coordinate)+1,no_atoms):\n",
    "      fragment[count+1] = coordinate[i:i + no_atoms]\n",
    "      count = count + 1\n",
    "      if(count < len(n_atoms)): \n",
    "        no_atoms = int(n_atoms[count])\n",
    "      else:\n",
    "         break\n",
    "\n",
    "\n",
    "\n",
    "\n",
    "                                     # Dimer content creation\n",
    "\n",
    "fragment_dimer = {}\n",
    "for i in range(1,len(n_atoms)+1,1):\n",
    "     for j in range(i+1,len(n_atoms)+1,1):\n",
    "         fragment_dimer[str(i)+'_'+str(j)] = fragment[i] +fragment[j]\n",
    "        \n",
    "        \n",
    "                                    #Timer content creation\n",
    "\n",
    "fragment_timer = {}\n",
    "for i in range(1,len(n_atoms)+1,1):\n",
    "    for j in range(i+1,len(n_atoms)+1,1):\n",
    "      for k in range(j+1,len(n_atoms)+1,1):\n",
    "        fragment_timer[str(i)+'_'+str(j)+'_'+str(k)] =fragment[i] + fragment[j]+ fragment[k]\n",
    "    \n",
    "\n",
    "                                # Tetramar content creation\n",
    "\n",
    "\n",
    "fragment_tetra = {}\n",
    "for i in range(1,len(n_atoms)+1,1):\n",
    "     for j in range(i+1,len(n_atoms)+1,1):\n",
    "        for k in range(j+1,len(n_atoms)+1,1):\n",
    "           for l in range(k+1,len(n_atoms)+1,1):\n",
    "            fragment_tetra[str(i)+'_'+str(j)+'_'+str(k)+'_'+str(l)] = fragment[i] + fragment[j]+ fragment[k] + fragment[l]\n",
    "        \n",
    "        \n",
    "                                  # dumping into json file\n",
    "merged_data = {**fragment, **fragment_dimer,**fragment_timer,**fragment_tetra}\n",
    "frag_output = open('fragment_energy_json', 'w') \n",
    "json.dump(merged_data,frag_output,indent = 4)\n",
    "frag_output.close()\n",
    "\n",
    "  \n"
   ]
  },
  {
   "cell_type": "code",
   "execution_count": null,
   "metadata": {},
   "outputs": [],
   "source": []
  },
  {
   "cell_type": "code",
   "execution_count": null,
   "metadata": {},
   "outputs": [],
   "source": []
  }
 ],
 "metadata": {
  "kernelspec": {
   "display_name": "Python 3",
   "language": "python",
   "name": "python3"
  },
  "language_info": {
   "codemirror_mode": {
    "name": "ipython",
    "version": 3
   },
   "file_extension": ".py",
   "mimetype": "text/x-python",
   "name": "python",
   "nbconvert_exporter": "python",
   "pygments_lexer": "ipython3",
   "version": "3.6.9"
  }
 },
 "nbformat": 4,
 "nbformat_minor": 2
}
