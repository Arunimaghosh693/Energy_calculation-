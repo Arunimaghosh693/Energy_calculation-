{
 "cells": [
  {
   "cell_type": "code",
   "execution_count": null,
   "metadata": {},
   "outputs": [],
   "source": [
    "import json \n",
    "import glob\n",
    "import os\n",
    "print(\"Available json files in current directory: \", glob.glob(\"*.json\"))\n",
    "ener_in = input(\"enter the energy json file\")\n",
    "force_in = input(\"enter the force json file\")\n",
    "file_input = input(\"enter the name of your file where you want to save your data in xyz format\")\n",
    "op_file_name = os.path.splitext(file_input)[0]\n",
    "\n",
    "ener_json = open(ener_in, 'r')\n",
    "ener_dict = json.load(ener_json)\n",
    "\n",
    "\n",
    "force_json = open(force_in, 'r')\n",
    "force_dict = json.load(force_json)\n",
    "\n",
    "\n",
    "fp = open(op_file_name+'.xyz','w')\n",
    "atom_number = 13\n",
    "for en in ener_dict.keys():\n",
    "     fp.write('%d\\n' % atom_number)\n",
    "     fp.write('%f\\n' % ener_dict[en])\n",
    "     for fo in force_dict[en]: \n",
    "        if(isinstance(fo,str)):\n",
    "            fp.write(fo)\n",
    "        else:\n",
    "            fp.writelines(\"  %s   \" % coors for coors in fo)\n",
    "            fp.write(\"\\n\")\n",
    "     \n",
    "fp.close() "
   ]
  },
  {
   "cell_type": "code",
   "execution_count": null,
   "metadata": {},
   "outputs": [],
   "source": []
  }
 ],
 "metadata": {
  "kernelspec": {
   "display_name": "Python 3",
   "language": "python",
   "name": "python3"
  },
  "language_info": {
   "codemirror_mode": {
    "name": "ipython",
    "version": 3
   },
   "file_extension": ".py",
   "mimetype": "text/x-python",
   "name": "python",
   "nbconvert_exporter": "python",
   "pygments_lexer": "ipython3",
   "version": "3.7.6"
  }
 },
 "nbformat": 4,
 "nbformat_minor": 4
}
