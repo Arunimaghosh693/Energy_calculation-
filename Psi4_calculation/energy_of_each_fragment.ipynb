{
 "cells": [
  {
   "cell_type": "code",
   "execution_count": 2,
   "metadata": {},
   "outputs": [],
   "source": [
    "import psi4\n",
    "import numpy\n",
    "import os\n",
    "import json"
   ]
  },
  {
   "cell_type": "code",
   "execution_count": 4,
   "metadata": {},
   "outputs": [
    {
     "name": "stdout",
     "output_type": "stream",
     "text": [
      "-98839.57908377005\n"
     ]
    }
   ],
   "source": [
    "with open('fragment_energy_json','r') as read_file:\n",
    "  data = json.load(read_file)\n",
    "os.mkdir(\"psi4_output\")\n",
    "energy = {}\n",
    "for i in data.keys():\n",
    "        coordinate =''\n",
    "        for line in data[str(i)]:\n",
    "            for atom in line:\n",
    "               coordinate = coordinate + atom + \" \"\n",
    "            coordinate = coordinate + \"\\n\"    \n",
    "        output = \"psi4_output/\"+str(i)+('.dat')\n",
    "        psi4.core.set_output_file(output, False)\n",
    "        psi4.set_memory('500 MB')\n",
    "        en = psi4.geometry(\n",
    "        coordinate\n",
    "         )\n",
    "        x = psi4.energy('scf/cc-pvdz')\n",
    "        energy[i] = x\n",
    "        \n",
    "energy_output = open('energy_json', 'w') \n",
    "json.dump(energy,energy_output,indent = 4)\n",
    "energy_output.close()\n",
    "#total energy calculation \n",
    "print(sum(energy.values()))"
   ]
  },
  {
   "cell_type": "code",
   "execution_count": 3,
   "metadata": {
    "scrolled": false
   },
   "outputs": [],
   "source": []
  },
  {
   "cell_type": "code",
   "execution_count": 4,
   "metadata": {},
   "outputs": [],
   "source": [
    "\n"
   ]
  },
  {
   "cell_type": "code",
   "execution_count": null,
   "metadata": {},
   "outputs": [],
   "source": []
  },
  {
   "cell_type": "code",
   "execution_count": null,
   "metadata": {},
   "outputs": [],
   "source": []
  },
  {
   "cell_type": "code",
   "execution_count": null,
   "metadata": {},
   "outputs": [],
   "source": []
  },
  {
   "cell_type": "code",
   "execution_count": null,
   "metadata": {},
   "outputs": [],
   "source": []
  }
 ],
 "metadata": {
  "kernelspec": {
   "display_name": "Python 3",
   "language": "python",
   "name": "python3"
  },
  "language_info": {
   "codemirror_mode": {
    "name": "ipython",
    "version": 3
   },
   "file_extension": ".py",
   "mimetype": "text/x-python",
   "name": "python",
   "nbconvert_exporter": "python",
   "pygments_lexer": "ipython3",
   "version": "3.6.9"
  }
 },
 "nbformat": 4,
 "nbformat_minor": 2
}
